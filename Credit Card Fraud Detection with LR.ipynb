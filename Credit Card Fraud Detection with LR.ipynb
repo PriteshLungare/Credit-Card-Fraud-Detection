{
 "cells": [
  {
   "cell_type": "code",
   "execution_count": 2,
   "id": "6e8ef5ec",
   "metadata": {},
   "outputs": [],
   "source": [
    "import numpy as np\n",
    "import pandas as pd\n",
    "from sklearn.model_selection import train_test_split\n",
    "from sklearn.linear_model import LogisticRegression\n",
    "from sklearn.metrics import accuracy_score"
   ]
  },
  {
   "cell_type": "code",
   "execution_count": 3,
   "id": "5c3f669d",
   "metadata": {},
   "outputs": [],
   "source": [
    "Credit_card_data = pd.read_csv('fraudTrain.csv')"
   ]
  },
  {
   "cell_type": "code",
   "execution_count": 4,
   "id": "5862e43b",
   "metadata": {},
   "outputs": [
    {
     "data": {
      "text/html": [
       "<div>\n",
       "<style scoped>\n",
       "    .dataframe tbody tr th:only-of-type {\n",
       "        vertical-align: middle;\n",
       "    }\n",
       "\n",
       "    .dataframe tbody tr th {\n",
       "        vertical-align: top;\n",
       "    }\n",
       "\n",
       "    .dataframe thead th {\n",
       "        text-align: right;\n",
       "    }\n",
       "</style>\n",
       "<table border=\"1\" class=\"dataframe\">\n",
       "  <thead>\n",
       "    <tr style=\"text-align: right;\">\n",
       "      <th></th>\n",
       "      <th>Unnamed: 0</th>\n",
       "      <th>trans_date_trans_time</th>\n",
       "      <th>cc_num</th>\n",
       "      <th>merchant</th>\n",
       "      <th>category</th>\n",
       "      <th>amt</th>\n",
       "      <th>first</th>\n",
       "      <th>last</th>\n",
       "      <th>gender</th>\n",
       "      <th>street</th>\n",
       "      <th>...</th>\n",
       "      <th>lat</th>\n",
       "      <th>long</th>\n",
       "      <th>city_pop</th>\n",
       "      <th>job</th>\n",
       "      <th>dob</th>\n",
       "      <th>trans_num</th>\n",
       "      <th>unix_time</th>\n",
       "      <th>merch_lat</th>\n",
       "      <th>merch_long</th>\n",
       "      <th>is_fraud</th>\n",
       "    </tr>\n",
       "  </thead>\n",
       "  <tbody>\n",
       "    <tr>\n",
       "      <th>0</th>\n",
       "      <td>0</td>\n",
       "      <td>2019-01-01 00:00:18</td>\n",
       "      <td>2703186189652095</td>\n",
       "      <td>fraud_Rippin, Kub and Mann</td>\n",
       "      <td>misc_net</td>\n",
       "      <td>4.97</td>\n",
       "      <td>Jennifer</td>\n",
       "      <td>Banks</td>\n",
       "      <td>F</td>\n",
       "      <td>561 Perry Cove</td>\n",
       "      <td>...</td>\n",
       "      <td>36.0788</td>\n",
       "      <td>-81.1781</td>\n",
       "      <td>3495</td>\n",
       "      <td>Psychologist, counselling</td>\n",
       "      <td>1988-03-09</td>\n",
       "      <td>0b242abb623afc578575680df30655b9</td>\n",
       "      <td>1325376018</td>\n",
       "      <td>36.011293</td>\n",
       "      <td>-82.048315</td>\n",
       "      <td>0</td>\n",
       "    </tr>\n",
       "    <tr>\n",
       "      <th>1</th>\n",
       "      <td>1</td>\n",
       "      <td>2019-01-01 00:00:44</td>\n",
       "      <td>630423337322</td>\n",
       "      <td>fraud_Heller, Gutmann and Zieme</td>\n",
       "      <td>grocery_pos</td>\n",
       "      <td>107.23</td>\n",
       "      <td>Stephanie</td>\n",
       "      <td>Gill</td>\n",
       "      <td>F</td>\n",
       "      <td>43039 Riley Greens Suite 393</td>\n",
       "      <td>...</td>\n",
       "      <td>48.8878</td>\n",
       "      <td>-118.2105</td>\n",
       "      <td>149</td>\n",
       "      <td>Special educational needs teacher</td>\n",
       "      <td>1978-06-21</td>\n",
       "      <td>1f76529f8574734946361c461b024d99</td>\n",
       "      <td>1325376044</td>\n",
       "      <td>49.159047</td>\n",
       "      <td>-118.186462</td>\n",
       "      <td>0</td>\n",
       "    </tr>\n",
       "    <tr>\n",
       "      <th>2</th>\n",
       "      <td>2</td>\n",
       "      <td>2019-01-01 00:00:51</td>\n",
       "      <td>38859492057661</td>\n",
       "      <td>fraud_Lind-Buckridge</td>\n",
       "      <td>entertainment</td>\n",
       "      <td>220.11</td>\n",
       "      <td>Edward</td>\n",
       "      <td>Sanchez</td>\n",
       "      <td>M</td>\n",
       "      <td>594 White Dale Suite 530</td>\n",
       "      <td>...</td>\n",
       "      <td>42.1808</td>\n",
       "      <td>-112.2620</td>\n",
       "      <td>4154</td>\n",
       "      <td>Nature conservation officer</td>\n",
       "      <td>1962-01-19</td>\n",
       "      <td>a1a22d70485983eac12b5b88dad1cf95</td>\n",
       "      <td>1325376051</td>\n",
       "      <td>43.150704</td>\n",
       "      <td>-112.154481</td>\n",
       "      <td>0</td>\n",
       "    </tr>\n",
       "    <tr>\n",
       "      <th>3</th>\n",
       "      <td>3</td>\n",
       "      <td>2019-01-01 00:01:16</td>\n",
       "      <td>3534093764340240</td>\n",
       "      <td>fraud_Kutch, Hermiston and Farrell</td>\n",
       "      <td>gas_transport</td>\n",
       "      <td>45.00</td>\n",
       "      <td>Jeremy</td>\n",
       "      <td>White</td>\n",
       "      <td>M</td>\n",
       "      <td>9443 Cynthia Court Apt. 038</td>\n",
       "      <td>...</td>\n",
       "      <td>46.2306</td>\n",
       "      <td>-112.1138</td>\n",
       "      <td>1939</td>\n",
       "      <td>Patent attorney</td>\n",
       "      <td>1967-01-12</td>\n",
       "      <td>6b849c168bdad6f867558c3793159a81</td>\n",
       "      <td>1325376076</td>\n",
       "      <td>47.034331</td>\n",
       "      <td>-112.561071</td>\n",
       "      <td>0</td>\n",
       "    </tr>\n",
       "    <tr>\n",
       "      <th>4</th>\n",
       "      <td>4</td>\n",
       "      <td>2019-01-01 00:03:06</td>\n",
       "      <td>375534208663984</td>\n",
       "      <td>fraud_Keeling-Crist</td>\n",
       "      <td>misc_pos</td>\n",
       "      <td>41.96</td>\n",
       "      <td>Tyler</td>\n",
       "      <td>Garcia</td>\n",
       "      <td>M</td>\n",
       "      <td>408 Bradley Rest</td>\n",
       "      <td>...</td>\n",
       "      <td>38.4207</td>\n",
       "      <td>-79.4629</td>\n",
       "      <td>99</td>\n",
       "      <td>Dance movement psychotherapist</td>\n",
       "      <td>1986-03-28</td>\n",
       "      <td>a41d7549acf90789359a9aa5346dcb46</td>\n",
       "      <td>1325376186</td>\n",
       "      <td>38.674999</td>\n",
       "      <td>-78.632459</td>\n",
       "      <td>0</td>\n",
       "    </tr>\n",
       "  </tbody>\n",
       "</table>\n",
       "<p>5 rows × 23 columns</p>\n",
       "</div>"
      ],
      "text/plain": [
       "   Unnamed: 0 trans_date_trans_time            cc_num  \\\n",
       "0           0   2019-01-01 00:00:18  2703186189652095   \n",
       "1           1   2019-01-01 00:00:44      630423337322   \n",
       "2           2   2019-01-01 00:00:51    38859492057661   \n",
       "3           3   2019-01-01 00:01:16  3534093764340240   \n",
       "4           4   2019-01-01 00:03:06   375534208663984   \n",
       "\n",
       "                             merchant       category     amt      first  \\\n",
       "0          fraud_Rippin, Kub and Mann       misc_net    4.97   Jennifer   \n",
       "1     fraud_Heller, Gutmann and Zieme    grocery_pos  107.23  Stephanie   \n",
       "2                fraud_Lind-Buckridge  entertainment  220.11     Edward   \n",
       "3  fraud_Kutch, Hermiston and Farrell  gas_transport   45.00     Jeremy   \n",
       "4                 fraud_Keeling-Crist       misc_pos   41.96      Tyler   \n",
       "\n",
       "      last gender                        street  ...      lat      long  \\\n",
       "0    Banks      F                561 Perry Cove  ...  36.0788  -81.1781   \n",
       "1     Gill      F  43039 Riley Greens Suite 393  ...  48.8878 -118.2105   \n",
       "2  Sanchez      M      594 White Dale Suite 530  ...  42.1808 -112.2620   \n",
       "3    White      M   9443 Cynthia Court Apt. 038  ...  46.2306 -112.1138   \n",
       "4   Garcia      M              408 Bradley Rest  ...  38.4207  -79.4629   \n",
       "\n",
       "   city_pop                                job         dob  \\\n",
       "0      3495          Psychologist, counselling  1988-03-09   \n",
       "1       149  Special educational needs teacher  1978-06-21   \n",
       "2      4154        Nature conservation officer  1962-01-19   \n",
       "3      1939                    Patent attorney  1967-01-12   \n",
       "4        99     Dance movement psychotherapist  1986-03-28   \n",
       "\n",
       "                          trans_num   unix_time  merch_lat  merch_long  \\\n",
       "0  0b242abb623afc578575680df30655b9  1325376018  36.011293  -82.048315   \n",
       "1  1f76529f8574734946361c461b024d99  1325376044  49.159047 -118.186462   \n",
       "2  a1a22d70485983eac12b5b88dad1cf95  1325376051  43.150704 -112.154481   \n",
       "3  6b849c168bdad6f867558c3793159a81  1325376076  47.034331 -112.561071   \n",
       "4  a41d7549acf90789359a9aa5346dcb46  1325376186  38.674999  -78.632459   \n",
       "\n",
       "   is_fraud  \n",
       "0         0  \n",
       "1         0  \n",
       "2         0  \n",
       "3         0  \n",
       "4         0  \n",
       "\n",
       "[5 rows x 23 columns]"
      ]
     },
     "execution_count": 4,
     "metadata": {},
     "output_type": "execute_result"
    }
   ],
   "source": [
    "Credit_card_data.head()"
   ]
  },
  {
   "cell_type": "code",
   "execution_count": 54,
   "id": "c0ee7cea",
   "metadata": {},
   "outputs": [
    {
     "name": "stdout",
     "output_type": "stream",
     "text": [
      "         Unnamed: 0               cc_num     amt    zip      lat      long  \\\n",
      "0                 0     2703186189652095    4.97  28654  36.0788  -81.1781   \n",
      "1                 1         630423337322  107.23  99160  48.8878 -118.2105   \n",
      "2                 2       38859492057661  220.11  83252  42.1808 -112.2620   \n",
      "3                 3     3534093764340240   45.00  59632  46.2306 -112.1138   \n",
      "4                 4      375534208663984   41.96  24433  38.4207  -79.4629   \n",
      "...             ...                  ...     ...    ...      ...       ...   \n",
      "1296670     1296670       30263540414123   15.56  84735  37.7175 -112.4777   \n",
      "1296671     1296671     6011149206456997   51.70  21790  39.2667  -77.5101   \n",
      "1296672     1296672     3514865930894695  105.93  88325  32.9396 -105.8189   \n",
      "1296673     1296673     2720012583106919   74.90  57756  43.3526 -102.5411   \n",
      "1296674     1296674  4292902571056973207    4.30  59871  45.8433 -113.8748   \n",
      "\n",
      "         city_pop   unix_time  merch_lat  merch_long  is_fraud  \n",
      "0            3495  1325376018  36.011293  -82.048315         0  \n",
      "1             149  1325376044  49.159047 -118.186462         0  \n",
      "2            4154  1325376051  43.150704 -112.154481         0  \n",
      "3            1939  1325376076  47.034331 -112.561071         0  \n",
      "4              99  1325376186  38.674999  -78.632459         0  \n",
      "...           ...         ...        ...         ...       ...  \n",
      "1296670       258  1371816728  36.841266 -111.690765         0  \n",
      "1296671       100  1371816739  38.906881  -78.246528         0  \n",
      "1296672       899  1371816752  33.619513 -105.130529         0  \n",
      "1296673      1126  1371816816  42.788940 -103.241160         0  \n",
      "1296674       218  1371816817  46.565983 -114.186110         0  \n",
      "\n",
      "[1296675 rows x 11 columns]\n"
     ]
    }
   ],
   "source": [
    "columns_to_remove = ['merchant', 'category','first','last','gender','street','job','city','state','trans_date_trans_time','dob','trans_num']\n",
    "df_modified = Credit_card_data.drop(columns_to_remove, axis=1)\n",
    "print(df_modified)"
   ]
  },
  {
   "cell_type": "code",
   "execution_count": 55,
   "id": "e3ab5538",
   "metadata": {},
   "outputs": [
    {
     "data": {
      "text/html": [
       "<div>\n",
       "<style scoped>\n",
       "    .dataframe tbody tr th:only-of-type {\n",
       "        vertical-align: middle;\n",
       "    }\n",
       "\n",
       "    .dataframe tbody tr th {\n",
       "        vertical-align: top;\n",
       "    }\n",
       "\n",
       "    .dataframe thead th {\n",
       "        text-align: right;\n",
       "    }\n",
       "</style>\n",
       "<table border=\"1\" class=\"dataframe\">\n",
       "  <thead>\n",
       "    <tr style=\"text-align: right;\">\n",
       "      <th></th>\n",
       "      <th>Unnamed: 0</th>\n",
       "      <th>cc_num</th>\n",
       "      <th>amt</th>\n",
       "      <th>zip</th>\n",
       "      <th>lat</th>\n",
       "      <th>long</th>\n",
       "      <th>city_pop</th>\n",
       "      <th>unix_time</th>\n",
       "      <th>merch_lat</th>\n",
       "      <th>merch_long</th>\n",
       "      <th>is_fraud</th>\n",
       "    </tr>\n",
       "  </thead>\n",
       "  <tbody>\n",
       "    <tr>\n",
       "      <th>0</th>\n",
       "      <td>0</td>\n",
       "      <td>2703186189652095</td>\n",
       "      <td>4.97</td>\n",
       "      <td>28654</td>\n",
       "      <td>36.0788</td>\n",
       "      <td>-81.1781</td>\n",
       "      <td>3495</td>\n",
       "      <td>1325376018</td>\n",
       "      <td>36.011293</td>\n",
       "      <td>-82.048315</td>\n",
       "      <td>0</td>\n",
       "    </tr>\n",
       "    <tr>\n",
       "      <th>1</th>\n",
       "      <td>1</td>\n",
       "      <td>630423337322</td>\n",
       "      <td>107.23</td>\n",
       "      <td>99160</td>\n",
       "      <td>48.8878</td>\n",
       "      <td>-118.2105</td>\n",
       "      <td>149</td>\n",
       "      <td>1325376044</td>\n",
       "      <td>49.159047</td>\n",
       "      <td>-118.186462</td>\n",
       "      <td>0</td>\n",
       "    </tr>\n",
       "    <tr>\n",
       "      <th>2</th>\n",
       "      <td>2</td>\n",
       "      <td>38859492057661</td>\n",
       "      <td>220.11</td>\n",
       "      <td>83252</td>\n",
       "      <td>42.1808</td>\n",
       "      <td>-112.2620</td>\n",
       "      <td>4154</td>\n",
       "      <td>1325376051</td>\n",
       "      <td>43.150704</td>\n",
       "      <td>-112.154481</td>\n",
       "      <td>0</td>\n",
       "    </tr>\n",
       "    <tr>\n",
       "      <th>3</th>\n",
       "      <td>3</td>\n",
       "      <td>3534093764340240</td>\n",
       "      <td>45.00</td>\n",
       "      <td>59632</td>\n",
       "      <td>46.2306</td>\n",
       "      <td>-112.1138</td>\n",
       "      <td>1939</td>\n",
       "      <td>1325376076</td>\n",
       "      <td>47.034331</td>\n",
       "      <td>-112.561071</td>\n",
       "      <td>0</td>\n",
       "    </tr>\n",
       "    <tr>\n",
       "      <th>4</th>\n",
       "      <td>4</td>\n",
       "      <td>375534208663984</td>\n",
       "      <td>41.96</td>\n",
       "      <td>24433</td>\n",
       "      <td>38.4207</td>\n",
       "      <td>-79.4629</td>\n",
       "      <td>99</td>\n",
       "      <td>1325376186</td>\n",
       "      <td>38.674999</td>\n",
       "      <td>-78.632459</td>\n",
       "      <td>0</td>\n",
       "    </tr>\n",
       "  </tbody>\n",
       "</table>\n",
       "</div>"
      ],
      "text/plain": [
       "   Unnamed: 0            cc_num     amt    zip      lat      long  city_pop  \\\n",
       "0           0  2703186189652095    4.97  28654  36.0788  -81.1781      3495   \n",
       "1           1      630423337322  107.23  99160  48.8878 -118.2105       149   \n",
       "2           2    38859492057661  220.11  83252  42.1808 -112.2620      4154   \n",
       "3           3  3534093764340240   45.00  59632  46.2306 -112.1138      1939   \n",
       "4           4   375534208663984   41.96  24433  38.4207  -79.4629        99   \n",
       "\n",
       "    unix_time  merch_lat  merch_long  is_fraud  \n",
       "0  1325376018  36.011293  -82.048315         0  \n",
       "1  1325376044  49.159047 -118.186462         0  \n",
       "2  1325376051  43.150704 -112.154481         0  \n",
       "3  1325376076  47.034331 -112.561071         0  \n",
       "4  1325376186  38.674999  -78.632459         0  "
      ]
     },
     "execution_count": 55,
     "metadata": {},
     "output_type": "execute_result"
    }
   ],
   "source": [
    "df_modified.head()"
   ]
  },
  {
   "cell_type": "code",
   "execution_count": 56,
   "id": "14051e0e",
   "metadata": {},
   "outputs": [
    {
     "name": "stdout",
     "output_type": "stream",
     "text": [
      "<class 'pandas.core.frame.DataFrame'>\n",
      "RangeIndex: 1296675 entries, 0 to 1296674\n",
      "Data columns (total 11 columns):\n",
      " #   Column      Non-Null Count    Dtype  \n",
      "---  ------      --------------    -----  \n",
      " 0   Unnamed: 0  1296675 non-null  int64  \n",
      " 1   cc_num      1296675 non-null  int64  \n",
      " 2   amt         1296675 non-null  float64\n",
      " 3   zip         1296675 non-null  int64  \n",
      " 4   lat         1296675 non-null  float64\n",
      " 5   long        1296675 non-null  float64\n",
      " 6   city_pop    1296675 non-null  int64  \n",
      " 7   unix_time   1296675 non-null  int64  \n",
      " 8   merch_lat   1296675 non-null  float64\n",
      " 9   merch_long  1296675 non-null  float64\n",
      " 10  is_fraud    1296675 non-null  int64  \n",
      "dtypes: float64(5), int64(6)\n",
      "memory usage: 108.8 MB\n"
     ]
    }
   ],
   "source": [
    "df_modified.info()"
   ]
  },
  {
   "cell_type": "code",
   "execution_count": 57,
   "id": "51d25679",
   "metadata": {},
   "outputs": [
    {
     "data": {
      "text/plain": [
       "Unnamed: 0    0\n",
       "cc_num        0\n",
       "amt           0\n",
       "zip           0\n",
       "lat           0\n",
       "long          0\n",
       "city_pop      0\n",
       "unix_time     0\n",
       "merch_lat     0\n",
       "merch_long    0\n",
       "is_fraud      0\n",
       "dtype: int64"
      ]
     },
     "execution_count": 57,
     "metadata": {},
     "output_type": "execute_result"
    }
   ],
   "source": [
    "df_modified.isnull().sum()"
   ]
  },
  {
   "cell_type": "code",
   "execution_count": 58,
   "id": "85636329",
   "metadata": {},
   "outputs": [
    {
     "data": {
      "text/plain": [
       "0    1289169\n",
       "1       7506\n",
       "Name: is_fraud, dtype: int64"
      ]
     },
     "execution_count": 58,
     "metadata": {},
     "output_type": "execute_result"
    }
   ],
   "source": [
    "df_modified['is_fraud'].value_counts()"
   ]
  },
  {
   "cell_type": "markdown",
   "id": "ab3248ae",
   "metadata": {},
   "source": [
    "It is an Unbalanced Data Distribution."
   ]
  },
  {
   "cell_type": "code",
   "execution_count": 59,
   "id": "74f9e066",
   "metadata": {},
   "outputs": [],
   "source": [
    "legit = df_modified[df_modified.is_fraud == 0]\n",
    "fraud = df_modified[df_modified.is_fraud == 1]"
   ]
  },
  {
   "cell_type": "code",
   "execution_count": 60,
   "id": "f80838a3",
   "metadata": {},
   "outputs": [
    {
     "name": "stdout",
     "output_type": "stream",
     "text": [
      "(1289169, 11)\n",
      "(7506, 11)\n"
     ]
    }
   ],
   "source": [
    "print(legit.shape)\n",
    "print(fraud.shape)"
   ]
  },
  {
   "cell_type": "code",
   "execution_count": 61,
   "id": "92780b4e",
   "metadata": {},
   "outputs": [
    {
     "data": {
      "text/plain": [
       "count    1.289169e+06\n",
       "mean     6.766711e+01\n",
       "std      1.540080e+02\n",
       "min      1.000000e+00\n",
       "25%      9.610000e+00\n",
       "50%      4.728000e+01\n",
       "75%      8.254000e+01\n",
       "max      2.894890e+04\n",
       "Name: amt, dtype: float64"
      ]
     },
     "execution_count": 61,
     "metadata": {},
     "output_type": "execute_result"
    }
   ],
   "source": [
    "legit.amt.describe()"
   ]
  },
  {
   "cell_type": "code",
   "execution_count": 62,
   "id": "8ea23ba3",
   "metadata": {},
   "outputs": [
    {
     "data": {
      "text/plain": [
       "count    7506.000000\n",
       "mean      531.320092\n",
       "std       390.560070\n",
       "min         1.060000\n",
       "25%       245.662500\n",
       "50%       396.505000\n",
       "75%       900.875000\n",
       "max      1376.040000\n",
       "Name: amt, dtype: float64"
      ]
     },
     "execution_count": 62,
     "metadata": {},
     "output_type": "execute_result"
    }
   ],
   "source": [
    "fraud.amt.describe()"
   ]
  },
  {
   "cell_type": "markdown",
   "id": "a45264b3",
   "metadata": {},
   "source": [
    "Comparing the values of both Classes"
   ]
  },
  {
   "cell_type": "code",
   "execution_count": 63,
   "id": "02c7c065",
   "metadata": {},
   "outputs": [
    {
     "data": {
      "text/html": [
       "<div>\n",
       "<style scoped>\n",
       "    .dataframe tbody tr th:only-of-type {\n",
       "        vertical-align: middle;\n",
       "    }\n",
       "\n",
       "    .dataframe tbody tr th {\n",
       "        vertical-align: top;\n",
       "    }\n",
       "\n",
       "    .dataframe thead th {\n",
       "        text-align: right;\n",
       "    }\n",
       "</style>\n",
       "<table border=\"1\" class=\"dataframe\">\n",
       "  <thead>\n",
       "    <tr style=\"text-align: right;\">\n",
       "      <th></th>\n",
       "      <th>Unnamed: 0</th>\n",
       "      <th>cc_num</th>\n",
       "      <th>amt</th>\n",
       "      <th>zip</th>\n",
       "      <th>lat</th>\n",
       "      <th>long</th>\n",
       "      <th>city_pop</th>\n",
       "      <th>unix_time</th>\n",
       "      <th>merch_lat</th>\n",
       "      <th>merch_long</th>\n",
       "    </tr>\n",
       "    <tr>\n",
       "      <th>is_fraud</th>\n",
       "      <th></th>\n",
       "      <th></th>\n",
       "      <th></th>\n",
       "      <th></th>\n",
       "      <th></th>\n",
       "      <th></th>\n",
       "      <th></th>\n",
       "      <th></th>\n",
       "      <th></th>\n",
       "      <th></th>\n",
       "    </tr>\n",
       "  </thead>\n",
       "  <tbody>\n",
       "    <tr>\n",
       "      <th>0</th>\n",
       "      <td>648473.169029</td>\n",
       "      <td>4.172901e+17</td>\n",
       "      <td>67.667110</td>\n",
       "      <td>48805.107481</td>\n",
       "      <td>38.536888</td>\n",
       "      <td>-90.228142</td>\n",
       "      <td>88775.228137</td>\n",
       "      <td>1.349249e+09</td>\n",
       "      <td>38.536659</td>\n",
       "      <td>-90.228274</td>\n",
       "    </tr>\n",
       "    <tr>\n",
       "      <th>1</th>\n",
       "      <td>624949.724354</td>\n",
       "      <td>4.003577e+17</td>\n",
       "      <td>531.320092</td>\n",
       "      <td>48038.714229</td>\n",
       "      <td>38.663609</td>\n",
       "      <td>-89.916041</td>\n",
       "      <td>97276.763256</td>\n",
       "      <td>1.348389e+09</td>\n",
       "      <td>38.653901</td>\n",
       "      <td>-89.915808</td>\n",
       "    </tr>\n",
       "  </tbody>\n",
       "</table>\n",
       "</div>"
      ],
      "text/plain": [
       "             Unnamed: 0        cc_num         amt           zip        lat  \\\n",
       "is_fraud                                                                     \n",
       "0         648473.169029  4.172901e+17   67.667110  48805.107481  38.536888   \n",
       "1         624949.724354  4.003577e+17  531.320092  48038.714229  38.663609   \n",
       "\n",
       "               long      city_pop     unix_time  merch_lat  merch_long  \n",
       "is_fraud                                                                \n",
       "0        -90.228142  88775.228137  1.349249e+09  38.536659  -90.228274  \n",
       "1        -89.916041  97276.763256  1.348389e+09  38.653901  -89.915808  "
      ]
     },
     "execution_count": 63,
     "metadata": {},
     "output_type": "execute_result"
    }
   ],
   "source": [
    "df_modified.groupby('is_fraud').mean()"
   ]
  },
  {
   "cell_type": "markdown",
   "id": "088639d5",
   "metadata": {},
   "source": [
    "# under-Sampling"
   ]
  },
  {
   "cell_type": "code",
   "execution_count": 64,
   "id": "224104f3",
   "metadata": {},
   "outputs": [],
   "source": [
    "legit_sample = legit.sample(n=7506)"
   ]
  },
  {
   "cell_type": "markdown",
   "id": "2fbc32c1",
   "metadata": {},
   "source": [
    "# concatinet 2 Dataframe"
   ]
  },
  {
   "cell_type": "code",
   "execution_count": 65,
   "id": "f69440da",
   "metadata": {},
   "outputs": [],
   "source": [
    "new_dataset = pd.concat([legit_sample,fraud], axis=0)"
   ]
  },
  {
   "cell_type": "code",
   "execution_count": 66,
   "id": "5d7b6ebb",
   "metadata": {},
   "outputs": [
    {
     "data": {
      "text/html": [
       "<div>\n",
       "<style scoped>\n",
       "    .dataframe tbody tr th:only-of-type {\n",
       "        vertical-align: middle;\n",
       "    }\n",
       "\n",
       "    .dataframe tbody tr th {\n",
       "        vertical-align: top;\n",
       "    }\n",
       "\n",
       "    .dataframe thead th {\n",
       "        text-align: right;\n",
       "    }\n",
       "</style>\n",
       "<table border=\"1\" class=\"dataframe\">\n",
       "  <thead>\n",
       "    <tr style=\"text-align: right;\">\n",
       "      <th></th>\n",
       "      <th>Unnamed: 0</th>\n",
       "      <th>cc_num</th>\n",
       "      <th>amt</th>\n",
       "      <th>zip</th>\n",
       "      <th>lat</th>\n",
       "      <th>long</th>\n",
       "      <th>city_pop</th>\n",
       "      <th>unix_time</th>\n",
       "      <th>merch_lat</th>\n",
       "      <th>merch_long</th>\n",
       "      <th>is_fraud</th>\n",
       "    </tr>\n",
       "  </thead>\n",
       "  <tbody>\n",
       "    <tr>\n",
       "      <th>616129</th>\n",
       "      <td>616129</td>\n",
       "      <td>4400011257587661852</td>\n",
       "      <td>46.90</td>\n",
       "      <td>68859</td>\n",
       "      <td>41.4972</td>\n",
       "      <td>-98.7858</td>\n",
       "      <td>509</td>\n",
       "      <td>1348019720</td>\n",
       "      <td>41.351758</td>\n",
       "      <td>-98.198211</td>\n",
       "      <td>0</td>\n",
       "    </tr>\n",
       "    <tr>\n",
       "      <th>743878</th>\n",
       "      <td>743878</td>\n",
       "      <td>6011367958204270</td>\n",
       "      <td>135.19</td>\n",
       "      <td>44233</td>\n",
       "      <td>41.2419</td>\n",
       "      <td>-81.7453</td>\n",
       "      <td>7646</td>\n",
       "      <td>1352897728</td>\n",
       "      <td>41.261306</td>\n",
       "      <td>-81.827290</td>\n",
       "      <td>0</td>\n",
       "    </tr>\n",
       "    <tr>\n",
       "      <th>1113700</th>\n",
       "      <td>1113700</td>\n",
       "      <td>4198470814557</td>\n",
       "      <td>46.92</td>\n",
       "      <td>51521</td>\n",
       "      <td>41.4768</td>\n",
       "      <td>-95.3509</td>\n",
       "      <td>2036</td>\n",
       "      <td>1365375053</td>\n",
       "      <td>40.588159</td>\n",
       "      <td>-96.066903</td>\n",
       "      <td>0</td>\n",
       "    </tr>\n",
       "    <tr>\n",
       "      <th>1286305</th>\n",
       "      <td>1286305</td>\n",
       "      <td>3595111028444131</td>\n",
       "      <td>40.65</td>\n",
       "      <td>63829</td>\n",
       "      <td>36.0434</td>\n",
       "      <td>-90.2907</td>\n",
       "      <td>1120</td>\n",
       "      <td>1371419291</td>\n",
       "      <td>35.906496</td>\n",
       "      <td>-90.993078</td>\n",
       "      <td>0</td>\n",
       "    </tr>\n",
       "    <tr>\n",
       "      <th>454042</th>\n",
       "      <td>454042</td>\n",
       "      <td>3553629419254918</td>\n",
       "      <td>14.95</td>\n",
       "      <td>98238</td>\n",
       "      <td>48.3400</td>\n",
       "      <td>-122.3456</td>\n",
       "      <td>85</td>\n",
       "      <td>1342808434</td>\n",
       "      <td>48.504737</td>\n",
       "      <td>-122.778362</td>\n",
       "      <td>0</td>\n",
       "    </tr>\n",
       "  </tbody>\n",
       "</table>\n",
       "</div>"
      ],
      "text/plain": [
       "         Unnamed: 0               cc_num     amt    zip      lat      long  \\\n",
       "616129       616129  4400011257587661852   46.90  68859  41.4972  -98.7858   \n",
       "743878       743878     6011367958204270  135.19  44233  41.2419  -81.7453   \n",
       "1113700     1113700        4198470814557   46.92  51521  41.4768  -95.3509   \n",
       "1286305     1286305     3595111028444131   40.65  63829  36.0434  -90.2907   \n",
       "454042       454042     3553629419254918   14.95  98238  48.3400 -122.3456   \n",
       "\n",
       "         city_pop   unix_time  merch_lat  merch_long  is_fraud  \n",
       "616129        509  1348019720  41.351758  -98.198211         0  \n",
       "743878       7646  1352897728  41.261306  -81.827290         0  \n",
       "1113700      2036  1365375053  40.588159  -96.066903         0  \n",
       "1286305      1120  1371419291  35.906496  -90.993078         0  \n",
       "454042         85  1342808434  48.504737 -122.778362         0  "
      ]
     },
     "execution_count": 66,
     "metadata": {},
     "output_type": "execute_result"
    }
   ],
   "source": [
    "new_dataset.head()"
   ]
  },
  {
   "cell_type": "code",
   "execution_count": 67,
   "id": "6109a6d1",
   "metadata": {},
   "outputs": [
    {
     "data": {
      "text/plain": [
       "0    7506\n",
       "1    7506\n",
       "Name: is_fraud, dtype: int64"
      ]
     },
     "execution_count": 67,
     "metadata": {},
     "output_type": "execute_result"
    }
   ],
   "source": [
    "new_dataset['is_fraud'].value_counts()"
   ]
  },
  {
   "cell_type": "code",
   "execution_count": 68,
   "id": "0f497b19",
   "metadata": {},
   "outputs": [
    {
     "data": {
      "text/html": [
       "<div>\n",
       "<style scoped>\n",
       "    .dataframe tbody tr th:only-of-type {\n",
       "        vertical-align: middle;\n",
       "    }\n",
       "\n",
       "    .dataframe tbody tr th {\n",
       "        vertical-align: top;\n",
       "    }\n",
       "\n",
       "    .dataframe thead th {\n",
       "        text-align: right;\n",
       "    }\n",
       "</style>\n",
       "<table border=\"1\" class=\"dataframe\">\n",
       "  <thead>\n",
       "    <tr style=\"text-align: right;\">\n",
       "      <th></th>\n",
       "      <th>Unnamed: 0</th>\n",
       "      <th>cc_num</th>\n",
       "      <th>amt</th>\n",
       "      <th>zip</th>\n",
       "      <th>lat</th>\n",
       "      <th>long</th>\n",
       "      <th>city_pop</th>\n",
       "      <th>unix_time</th>\n",
       "      <th>merch_lat</th>\n",
       "      <th>merch_long</th>\n",
       "    </tr>\n",
       "    <tr>\n",
       "      <th>is_fraud</th>\n",
       "      <th></th>\n",
       "      <th></th>\n",
       "      <th></th>\n",
       "      <th></th>\n",
       "      <th></th>\n",
       "      <th></th>\n",
       "      <th></th>\n",
       "      <th></th>\n",
       "      <th></th>\n",
       "      <th></th>\n",
       "    </tr>\n",
       "  </thead>\n",
       "  <tbody>\n",
       "    <tr>\n",
       "      <th>0</th>\n",
       "      <td>648996.366107</td>\n",
       "      <td>3.900920e+17</td>\n",
       "      <td>67.338377</td>\n",
       "      <td>48591.431122</td>\n",
       "      <td>38.463548</td>\n",
       "      <td>-90.061931</td>\n",
       "      <td>91114.542766</td>\n",
       "      <td>1.349281e+09</td>\n",
       "      <td>38.458743</td>\n",
       "      <td>-90.060666</td>\n",
       "    </tr>\n",
       "    <tr>\n",
       "      <th>1</th>\n",
       "      <td>624949.724354</td>\n",
       "      <td>4.003577e+17</td>\n",
       "      <td>531.320092</td>\n",
       "      <td>48038.714229</td>\n",
       "      <td>38.663609</td>\n",
       "      <td>-89.916041</td>\n",
       "      <td>97276.763256</td>\n",
       "      <td>1.348389e+09</td>\n",
       "      <td>38.653901</td>\n",
       "      <td>-89.915808</td>\n",
       "    </tr>\n",
       "  </tbody>\n",
       "</table>\n",
       "</div>"
      ],
      "text/plain": [
       "             Unnamed: 0        cc_num         amt           zip        lat  \\\n",
       "is_fraud                                                                     \n",
       "0         648996.366107  3.900920e+17   67.338377  48591.431122  38.463548   \n",
       "1         624949.724354  4.003577e+17  531.320092  48038.714229  38.663609   \n",
       "\n",
       "               long      city_pop     unix_time  merch_lat  merch_long  \n",
       "is_fraud                                                                \n",
       "0        -90.061931  91114.542766  1.349281e+09  38.458743  -90.060666  \n",
       "1        -89.916041  97276.763256  1.348389e+09  38.653901  -89.915808  "
      ]
     },
     "execution_count": 68,
     "metadata": {},
     "output_type": "execute_result"
    }
   ],
   "source": [
    "new_dataset.groupby('is_fraud').mean()"
   ]
  },
  {
   "cell_type": "code",
   "execution_count": 69,
   "id": "98ca6636",
   "metadata": {},
   "outputs": [],
   "source": [
    "X = new_dataset.drop(columns='is_fraud', axis=1)\n",
    "Y = new_dataset['is_fraud']"
   ]
  },
  {
   "cell_type": "code",
   "execution_count": 70,
   "id": "a55b9f57",
   "metadata": {},
   "outputs": [
    {
     "name": "stdout",
     "output_type": "stream",
     "text": [
      "         Unnamed: 0               cc_num      amt    zip      lat      long  \\\n",
      "616129       616129  4400011257587661852    46.90  68859  41.4972  -98.7858   \n",
      "743878       743878     6011367958204270   135.19  44233  41.2419  -81.7453   \n",
      "1113700     1113700        4198470814557    46.92  51521  41.4768  -95.3509   \n",
      "1286305     1286305     3595111028444131    40.65  63829  36.0434  -90.2907   \n",
      "454042       454042     3553629419254918    14.95  98238  48.3400 -122.3456   \n",
      "...             ...                  ...      ...    ...      ...       ...   \n",
      "1295399     1295399     3524574586339330   977.01  32960  27.6330  -80.4031   \n",
      "1295491     1295491     3524574586339330  1210.91  32960  27.6330  -80.4031   \n",
      "1295532     1295532     4005676619255478    10.24  70726  30.4590  -90.9027   \n",
      "1295666     1295666     3560725013359375    21.69  79759  31.8599 -102.7413   \n",
      "1295733     1295733     4005676619255478    10.20  70726  30.4590  -90.9027   \n",
      "\n",
      "         city_pop   unix_time  merch_lat  merch_long  \n",
      "616129        509  1348019720  41.351758  -98.198211  \n",
      "743878       7646  1352897728  41.261306  -81.827290  \n",
      "1113700      2036  1365375053  40.588159  -96.066903  \n",
      "1286305      1120  1371419291  35.906496  -90.993078  \n",
      "454042         85  1342808434  48.504737 -122.778362  \n",
      "...           ...         ...        ...         ...  \n",
      "1295399    105638  1371776408  26.888686  -80.834389  \n",
      "1295491    105638  1371779615  28.216707  -79.855648  \n",
      "1295532     71335  1371781016  29.700456  -91.361632  \n",
      "1295666        23  1371785180  32.675272 -103.484949  \n",
      "1295733     71335  1371787186  31.363252  -89.932309  \n",
      "\n",
      "[15012 rows x 10 columns]\n",
      "616129     0\n",
      "743878     0\n",
      "1113700    0\n",
      "1286305    0\n",
      "454042     0\n",
      "          ..\n",
      "1295399    1\n",
      "1295491    1\n",
      "1295532    1\n",
      "1295666    1\n",
      "1295733    1\n",
      "Name: is_fraud, Length: 15012, dtype: int64\n"
     ]
    }
   ],
   "source": [
    "print(X)\n",
    "print(Y)"
   ]
  },
  {
   "cell_type": "markdown",
   "id": "9c7e9053",
   "metadata": {},
   "source": [
    "Splitting it into Training Data & Testing Data"
   ]
  },
  {
   "cell_type": "code",
   "execution_count": 71,
   "id": "12313a4e",
   "metadata": {},
   "outputs": [],
   "source": [
    "X_train, X_test, Y_train, Y_test = train_test_split(X,Y, test_size=0.2, stratify=Y, random_state=2)"
   ]
  },
  {
   "cell_type": "code",
   "execution_count": 72,
   "id": "b36bc961",
   "metadata": {},
   "outputs": [
    {
     "name": "stdout",
     "output_type": "stream",
     "text": [
      "(15012, 10) (12009, 10) (3003, 10)\n"
     ]
    }
   ],
   "source": [
    "print(X.shape,X_train.shape,X_test.shape)"
   ]
  },
  {
   "cell_type": "markdown",
   "id": "1758971b",
   "metadata": {},
   "source": [
    "Model Training:"
   ]
  },
  {
   "cell_type": "code",
   "execution_count": 73,
   "id": "0a0a6541",
   "metadata": {},
   "outputs": [],
   "source": [
    "model = LogisticRegression()"
   ]
  },
  {
   "cell_type": "code",
   "execution_count": 74,
   "id": "6a3bf834",
   "metadata": {},
   "outputs": [
    {
     "data": {
      "text/html": [
       "<style>#sk-container-id-1 {color: black;background-color: white;}#sk-container-id-1 pre{padding: 0;}#sk-container-id-1 div.sk-toggleable {background-color: white;}#sk-container-id-1 label.sk-toggleable__label {cursor: pointer;display: block;width: 100%;margin-bottom: 0;padding: 0.3em;box-sizing: border-box;text-align: center;}#sk-container-id-1 label.sk-toggleable__label-arrow:before {content: \"▸\";float: left;margin-right: 0.25em;color: #696969;}#sk-container-id-1 label.sk-toggleable__label-arrow:hover:before {color: black;}#sk-container-id-1 div.sk-estimator:hover label.sk-toggleable__label-arrow:before {color: black;}#sk-container-id-1 div.sk-toggleable__content {max-height: 0;max-width: 0;overflow: hidden;text-align: left;background-color: #f0f8ff;}#sk-container-id-1 div.sk-toggleable__content pre {margin: 0.2em;color: black;border-radius: 0.25em;background-color: #f0f8ff;}#sk-container-id-1 input.sk-toggleable__control:checked~div.sk-toggleable__content {max-height: 200px;max-width: 100%;overflow: auto;}#sk-container-id-1 input.sk-toggleable__control:checked~label.sk-toggleable__label-arrow:before {content: \"▾\";}#sk-container-id-1 div.sk-estimator input.sk-toggleable__control:checked~label.sk-toggleable__label {background-color: #d4ebff;}#sk-container-id-1 div.sk-label input.sk-toggleable__control:checked~label.sk-toggleable__label {background-color: #d4ebff;}#sk-container-id-1 input.sk-hidden--visually {border: 0;clip: rect(1px 1px 1px 1px);clip: rect(1px, 1px, 1px, 1px);height: 1px;margin: -1px;overflow: hidden;padding: 0;position: absolute;width: 1px;}#sk-container-id-1 div.sk-estimator {font-family: monospace;background-color: #f0f8ff;border: 1px dotted black;border-radius: 0.25em;box-sizing: border-box;margin-bottom: 0.5em;}#sk-container-id-1 div.sk-estimator:hover {background-color: #d4ebff;}#sk-container-id-1 div.sk-parallel-item::after {content: \"\";width: 100%;border-bottom: 1px solid gray;flex-grow: 1;}#sk-container-id-1 div.sk-label:hover label.sk-toggleable__label {background-color: #d4ebff;}#sk-container-id-1 div.sk-serial::before {content: \"\";position: absolute;border-left: 1px solid gray;box-sizing: border-box;top: 0;bottom: 0;left: 50%;z-index: 0;}#sk-container-id-1 div.sk-serial {display: flex;flex-direction: column;align-items: center;background-color: white;padding-right: 0.2em;padding-left: 0.2em;position: relative;}#sk-container-id-1 div.sk-item {position: relative;z-index: 1;}#sk-container-id-1 div.sk-parallel {display: flex;align-items: stretch;justify-content: center;background-color: white;position: relative;}#sk-container-id-1 div.sk-item::before, #sk-container-id-1 div.sk-parallel-item::before {content: \"\";position: absolute;border-left: 1px solid gray;box-sizing: border-box;top: 0;bottom: 0;left: 50%;z-index: -1;}#sk-container-id-1 div.sk-parallel-item {display: flex;flex-direction: column;z-index: 1;position: relative;background-color: white;}#sk-container-id-1 div.sk-parallel-item:first-child::after {align-self: flex-end;width: 50%;}#sk-container-id-1 div.sk-parallel-item:last-child::after {align-self: flex-start;width: 50%;}#sk-container-id-1 div.sk-parallel-item:only-child::after {width: 0;}#sk-container-id-1 div.sk-dashed-wrapped {border: 1px dashed gray;margin: 0 0.4em 0.5em 0.4em;box-sizing: border-box;padding-bottom: 0.4em;background-color: white;}#sk-container-id-1 div.sk-label label {font-family: monospace;font-weight: bold;display: inline-block;line-height: 1.2em;}#sk-container-id-1 div.sk-label-container {text-align: center;}#sk-container-id-1 div.sk-container {/* jupyter's `normalize.less` sets `[hidden] { display: none; }` but bootstrap.min.css set `[hidden] { display: none !important; }` so we also need the `!important` here to be able to override the default hidden behavior on the sphinx rendered scikit-learn.org. See: https://github.com/scikit-learn/scikit-learn/issues/21755 */display: inline-block !important;position: relative;}#sk-container-id-1 div.sk-text-repr-fallback {display: none;}</style><div id=\"sk-container-id-1\" class=\"sk-top-container\"><div class=\"sk-text-repr-fallback\"><pre>LogisticRegression()</pre><b>In a Jupyter environment, please rerun this cell to show the HTML representation or trust the notebook. <br />On GitHub, the HTML representation is unable to render, please try loading this page with nbviewer.org.</b></div><div class=\"sk-container\" hidden><div class=\"sk-item\"><div class=\"sk-estimator sk-toggleable\"><input class=\"sk-toggleable__control sk-hidden--visually\" id=\"sk-estimator-id-1\" type=\"checkbox\" checked><label for=\"sk-estimator-id-1\" class=\"sk-toggleable__label sk-toggleable__label-arrow\">LogisticRegression</label><div class=\"sk-toggleable__content\"><pre>LogisticRegression()</pre></div></div></div></div></div>"
      ],
      "text/plain": [
       "LogisticRegression()"
      ]
     },
     "execution_count": 74,
     "metadata": {},
     "output_type": "execute_result"
    }
   ],
   "source": [
    "model.fit(X_train,Y_train)"
   ]
  },
  {
   "cell_type": "markdown",
   "id": "fa771195",
   "metadata": {},
   "source": [
    "# Model Evaluation"
   ]
  },
  {
   "cell_type": "code",
   "execution_count": 76,
   "id": "26c7626a",
   "metadata": {},
   "outputs": [],
   "source": [
    "X_train_prediction = model.predict(X_train)\n",
    "training_data_accuracy = accuracy_score(X_train_prediction, Y_train)"
   ]
  },
  {
   "cell_type": "code",
   "execution_count": 77,
   "id": "d9b0e63e",
   "metadata": {},
   "outputs": [
    {
     "name": "stdout",
     "output_type": "stream",
     "text": [
      "Accuracy on Training Data:  0.5000416354400866\n"
     ]
    }
   ],
   "source": [
    "print('Accuracy on Training Data: ',training_data_accuracy)"
   ]
  },
  {
   "cell_type": "code",
   "execution_count": null,
   "id": "208305dc",
   "metadata": {},
   "outputs": [],
   "source": [
    "input_data = [[amount, time_of_day, ...]] \n",
    "predicted_label = model.predict(input_data)\n",
    "print(f\"Predicted label: {predicted_label[0]}\")"
   ]
  }
 ],
 "metadata": {
  "kernelspec": {
   "display_name": "Python 3 (ipykernel)",
   "language": "python",
   "name": "python3"
  },
  "language_info": {
   "codemirror_mode": {
    "name": "ipython",
    "version": 3
   },
   "file_extension": ".py",
   "mimetype": "text/x-python",
   "name": "python",
   "nbconvert_exporter": "python",
   "pygments_lexer": "ipython3",
   "version": "3.10.9"
  }
 },
 "nbformat": 4,
 "nbformat_minor": 5
}
